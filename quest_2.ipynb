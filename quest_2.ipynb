{
 "cells": [
  {
   "cell_type": "code",
   "execution_count": 7,
   "id": "94c2d955",
   "metadata": {},
   "outputs": [
    {
     "name": "stdout",
     "output_type": "stream",
     "text": [
      "1.0\n",
      "None\n"
     ]
    }
   ],
   "source": [
    "\n",
    "def calculator():\n",
    "    num1 = float(input(\"Введіть перше число:\"))\n",
    "    num2 = float(input(\"Введіть друге число:\"))\n",
    "    oper = input(\"Введіть операцію:\")\n",
    "\n",
    "    if oper == '+':\n",
    "        print(num1 + num2)\n",
    "    elif oper == '-':\n",
    "        print(num1 - num2)\n",
    "    elif oper == '*':\n",
    "        print(\"Результат:\", num1 * num2)\n",
    "    elif oper == '/':\n",
    "        if num2 != 0:\n",
    "            print(\"Результат:\",num1 / num2)\n",
    "        else:\n",
    "            print(\"Помилка: Не ділиться на 0\")\n",
    "\n",
    "print(calculator())"
   ]
  }
 ],
 "metadata": {
  "kernelspec": {
   "display_name": "Python 3",
   "language": "python",
   "name": "python3"
  },
  "language_info": {
   "codemirror_mode": {
    "name": "ipython",
    "version": 3
   },
   "file_extension": ".py",
   "mimetype": "text/x-python",
   "name": "python",
   "nbconvert_exporter": "python",
   "pygments_lexer": "ipython3",
   "version": "3.13.7"
  }
 },
 "nbformat": 4,
 "nbformat_minor": 5
}
