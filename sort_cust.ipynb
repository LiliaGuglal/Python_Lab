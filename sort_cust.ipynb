{
 "cells": [
  {
   "cell_type": "code",
   "execution_count": 2,
   "id": "34874be0",
   "metadata": {},
   "outputs": [
    {
     "name": "stdout",
     "output_type": "stream",
     "text": [
      "Олег: Великий клієнт, Працює без питань\n",
      "Марія: Середнячок, Треба перевірити документи\n",
      "Іван: Великий клієнт, Працює без питань\n",
      "Анна: Середнячок, У чорний список\n",
      "Петро: Дрібнота, Працює без питань\n"
     ]
    }
   ],
   "source": [
    "def sort_customers():\n",
    "    clients = [\n",
    "        {'name': 'Олег', 'amount': 15000.50, 'status': 'clean'},\n",
    "        {'name': 'Марія', 'amount': 500, 'status': 'suspicious'},\n",
    "        {'name': 'Іван', 'amount': 25000, 'status': 'clean'},\n",
    "        {'name': 'Анна', 'amount': 754, 'status': 'fraud'},\n",
    "        {'name': 'Петро', 'amount': 50, 'status': 'clean'},\n",
    "    ]\n",
    "\n",
    "    result = []\n",
    "\n",
    "    for client in clients:\n",
    "        name = client.get('name')\n",
    "        amount = client.get('amount')\n",
    "        status = client.get('status')\n",
    "\n",
    "        if not isinstance(amount, (int, float)):\n",
    "            category = 'Фальшиві дані'\n",
    "            decision = 'Невідомий статус'\n",
    "        else:\n",
    "            if amount < 100:\n",
    "                category = 'Дрібнота'\n",
    "            elif 100 <= amount <= 999:\n",
    "                category = 'Середнячок'\n",
    "            else: \n",
    "                category = 'Великий клієнт'\n",
    "\n",
    "            match status:\n",
    "                case 'clean':\n",
    "                    decision = 'Працює без питань'\n",
    "                case 'suspicious':\n",
    "                    decision = 'Треба перевірити документи'\n",
    "                case 'fraud':\n",
    "                    decision = 'У чорний список'\n",
    "                case _:\n",
    "                    decision = 'Невідомий статус'\n",
    "\n",
    "        result.append(f\"{name}: {category}, {decision}\")\n",
    "\n",
    "    return result\n",
    "\n",
    "for entry in sort_customers():\n",
    "    print(entry)"
   ]
  }
 ],
 "metadata": {
  "kernelspec": {
   "display_name": "Python 3",
   "language": "python",
   "name": "python3"
  },
  "language_info": {
   "codemirror_mode": {
    "name": "ipython",
    "version": 3
   },
   "file_extension": ".py",
   "mimetype": "text/x-python",
   "name": "python",
   "nbconvert_exporter": "python",
   "pygments_lexer": "ipython3",
   "version": "3.13.7"
  }
 },
 "nbformat": 4,
 "nbformat_minor": 5
}
